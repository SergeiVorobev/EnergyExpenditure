{
 "cells": [
  {
   "attachments": {},
   "cell_type": "markdown",
   "metadata": {},
   "source": [
    "![title](./images/intro.png)"
   ]
  },
  {
   "cell_type": "code",
   "execution_count": 1,
   "metadata": {},
   "outputs": [],
   "source": [
    "import numpy as np\n",
    "import math\n",
    "import matplotlib.pyplot as plt\n",
    "import seaborn as sns\n",
    "import pandas as pd\n",
    "import csv\n",
    "from numpy.linalg import inv"
   ]
  },
  {
   "cell_type": "markdown",
   "metadata": {},
   "source": [
    "### Data for experiment\n"
   ]
  },
  {
   "cell_type": "code",
   "execution_count": 2,
   "metadata": {
    "scrolled": false
   },
   "outputs": [
    {
     "data": {
      "text/html": [
       "<div>\n",
       "<style scoped>\n",
       "    .dataframe tbody tr th:only-of-type {\n",
       "        vertical-align: middle;\n",
       "    }\n",
       "\n",
       "    .dataframe tbody tr th {\n",
       "        vertical-align: top;\n",
       "    }\n",
       "\n",
       "    .dataframe thead th {\n",
       "        text-align: right;\n",
       "    }\n",
       "</style>\n",
       "<table border=\"1\" class=\"dataframe\">\n",
       "  <thead>\n",
       "    <tr style=\"text-align: right;\">\n",
       "      <th></th>\n",
       "      <th>Energy(Kcal)</th>\n",
       "      <th>Distance(km)</th>\n",
       "      <th>Elevation Gain(km)</th>\n",
       "      <th>Pace(min/km)</th>\n",
       "    </tr>\n",
       "  </thead>\n",
       "  <tbody>\n",
       "    <tr>\n",
       "      <th>0</th>\n",
       "      <td>769</td>\n",
       "      <td>10.03</td>\n",
       "      <td>0.055</td>\n",
       "      <td>6.21</td>\n",
       "    </tr>\n",
       "    <tr>\n",
       "      <th>1</th>\n",
       "      <td>197</td>\n",
       "      <td>2.53</td>\n",
       "      <td>0.012</td>\n",
       "      <td>6.59</td>\n",
       "    </tr>\n",
       "    <tr>\n",
       "      <th>2</th>\n",
       "      <td>1164</td>\n",
       "      <td>15.02</td>\n",
       "      <td>0.015</td>\n",
       "      <td>6.33</td>\n",
       "    </tr>\n",
       "    <tr>\n",
       "      <th>3</th>\n",
       "      <td>1257</td>\n",
       "      <td>17.34</td>\n",
       "      <td>0.053</td>\n",
       "      <td>8.00</td>\n",
       "    </tr>\n",
       "    <tr>\n",
       "      <th>4</th>\n",
       "      <td>1322</td>\n",
       "      <td>18.04</td>\n",
       "      <td>0.029</td>\n",
       "      <td>7.36</td>\n",
       "    </tr>\n",
       "    <tr>\n",
       "      <th>5</th>\n",
       "      <td>1419</td>\n",
       "      <td>19.03</td>\n",
       "      <td>0.036</td>\n",
       "      <td>7.15</td>\n",
       "    </tr>\n",
       "    <tr>\n",
       "      <th>6</th>\n",
       "      <td>163</td>\n",
       "      <td>2.03</td>\n",
       "      <td>0.005</td>\n",
       "      <td>5.25</td>\n",
       "    </tr>\n",
       "    <tr>\n",
       "      <th>7</th>\n",
       "      <td>82</td>\n",
       "      <td>1.01</td>\n",
       "      <td>0.014</td>\n",
       "      <td>5.01</td>\n",
       "    </tr>\n",
       "    <tr>\n",
       "      <th>8</th>\n",
       "      <td>342</td>\n",
       "      <td>4.04</td>\n",
       "      <td>0.005</td>\n",
       "      <td>6.43</td>\n",
       "    </tr>\n",
       "    <tr>\n",
       "      <th>9</th>\n",
       "      <td>832</td>\n",
       "      <td>10.01</td>\n",
       "      <td>0.014</td>\n",
       "      <td>7.07</td>\n",
       "    </tr>\n",
       "    <tr>\n",
       "      <th>10</th>\n",
       "      <td>1736</td>\n",
       "      <td>21.00</td>\n",
       "      <td>0.043</td>\n",
       "      <td>7.21</td>\n",
       "    </tr>\n",
       "    <tr>\n",
       "      <th>11</th>\n",
       "      <td>1355</td>\n",
       "      <td>15.62</td>\n",
       "      <td>0.021</td>\n",
       "      <td>5.55</td>\n",
       "    </tr>\n",
       "    <tr>\n",
       "      <th>12</th>\n",
       "      <td>1343</td>\n",
       "      <td>15.37</td>\n",
       "      <td>0.049</td>\n",
       "      <td>5.44</td>\n",
       "    </tr>\n",
       "    <tr>\n",
       "      <th>13</th>\n",
       "      <td>781</td>\n",
       "      <td>8.96</td>\n",
       "      <td>0.028</td>\n",
       "      <td>5.53</td>\n",
       "    </tr>\n",
       "    <tr>\n",
       "      <th>14</th>\n",
       "      <td>552</td>\n",
       "      <td>6.36</td>\n",
       "      <td>0.032</td>\n",
       "      <td>5.59</td>\n",
       "    </tr>\n",
       "    <tr>\n",
       "      <th>15</th>\n",
       "      <td>891</td>\n",
       "      <td>10.22</td>\n",
       "      <td>0.036</td>\n",
       "      <td>5.48</td>\n",
       "    </tr>\n",
       "    <tr>\n",
       "      <th>16</th>\n",
       "      <td>243</td>\n",
       "      <td>2.91</td>\n",
       "      <td>0.015</td>\n",
       "      <td>6.56</td>\n",
       "    </tr>\n",
       "    <tr>\n",
       "      <th>17</th>\n",
       "      <td>135</td>\n",
       "      <td>1.63</td>\n",
       "      <td>0.012</td>\n",
       "      <td>7.06</td>\n",
       "    </tr>\n",
       "    <tr>\n",
       "      <th>18</th>\n",
       "      <td>469</td>\n",
       "      <td>5.44</td>\n",
       "      <td>0.011</td>\n",
       "      <td>6.10</td>\n",
       "    </tr>\n",
       "    <tr>\n",
       "      <th>19</th>\n",
       "      <td>876</td>\n",
       "      <td>10.04</td>\n",
       "      <td>0.034</td>\n",
       "      <td>5.46</td>\n",
       "    </tr>\n",
       "    <tr>\n",
       "      <th>20</th>\n",
       "      <td>1839</td>\n",
       "      <td>21.35</td>\n",
       "      <td>0.038</td>\n",
       "      <td>6.15</td>\n",
       "    </tr>\n",
       "    <tr>\n",
       "      <th>21</th>\n",
       "      <td>1878</td>\n",
       "      <td>22.00</td>\n",
       "      <td>0.089</td>\n",
       "      <td>6.31</td>\n",
       "    </tr>\n",
       "    <tr>\n",
       "      <th>22</th>\n",
       "      <td>413</td>\n",
       "      <td>5.02</td>\n",
       "      <td>0.021</td>\n",
       "      <td>6.46</td>\n",
       "    </tr>\n",
       "  </tbody>\n",
       "</table>\n",
       "</div>"
      ],
      "text/plain": [
       "    Energy(Kcal)  Distance(km)  Elevation Gain(km)  Pace(min/km)\n",
       "0            769         10.03               0.055          6.21\n",
       "1            197          2.53               0.012          6.59\n",
       "2           1164         15.02               0.015          6.33\n",
       "3           1257         17.34               0.053          8.00\n",
       "4           1322         18.04               0.029          7.36\n",
       "5           1419         19.03               0.036          7.15\n",
       "6            163          2.03               0.005          5.25\n",
       "7             82          1.01               0.014          5.01\n",
       "8            342          4.04               0.005          6.43\n",
       "9            832         10.01               0.014          7.07\n",
       "10          1736         21.00               0.043          7.21\n",
       "11          1355         15.62               0.021          5.55\n",
       "12          1343         15.37               0.049          5.44\n",
       "13           781          8.96               0.028          5.53\n",
       "14           552          6.36               0.032          5.59\n",
       "15           891         10.22               0.036          5.48\n",
       "16           243          2.91               0.015          6.56\n",
       "17           135          1.63               0.012          7.06\n",
       "18           469          5.44               0.011          6.10\n",
       "19           876         10.04               0.034          5.46\n",
       "20          1839         21.35               0.038          6.15\n",
       "21          1878         22.00               0.089          6.31\n",
       "22           413          5.02               0.021          6.46"
      ]
     },
     "execution_count": 2,
     "metadata": {},
     "output_type": "execute_result"
    }
   ],
   "source": [
    "csvD = 'data.csv'\n",
    "df = pd.read_csv(csvD)\n",
    "df"
   ]
  },
  {
   "cell_type": "code",
   "execution_count": 3,
   "metadata": {},
   "outputs": [],
   "source": [
    "# rewrite data base(exlude from our data base header and index) \n",
    "writeD = df.to_csv('new',index = False, header = False)\n",
    "data = \"new\""
   ]
  },
  {
   "attachments": {},
   "cell_type": "markdown",
   "metadata": {},
   "source": [
    "![title](./images/goal.png)"
   ]
  },
  {
   "cell_type": "code",
   "execution_count": 4,
   "metadata": {},
   "outputs": [],
   "source": [
    "# Function randomly select n-rows from our data base\n",
    "def readRandRows(data,n):\n",
    "    f = open(data,encoding='utf-8-sig')\n",
    "    csv_f = csv.reader(f)\n",
    "    csv_f = list(csv_f)\n",
    "    csv_f =  [[float(y) for y in x] for x in csv_f]\n",
    "    np.random.shuffle(csv_f)\n",
    "    newL = []\n",
    "    for row in range(n):\n",
    "        newL.append(csv_f[row])\n",
    "    return newL\n",
    "\n",
    "# Assign your data\n",
    "base = np.array(readRandRows(data,15))\n",
    "\n",
    "# Select data and number of column\n",
    "def column(matrix, i):\n",
    "    return np.array([row[i] for row in matrix])\n"
   ]
  },
  {
   "cell_type": "code",
   "execution_count": 5,
   "metadata": {
    "scrolled": true
   },
   "outputs": [],
   "source": [
    "# Function to calculate sample \n",
    "# standard deviation. \n",
    "def SSD(arr):\n",
    "    sm = 0\n",
    "    mean = sum(arr)/len(arr)\n",
    "    for i in arr:\n",
    "        sm += (i - mean) **2\n",
    "\n",
    "    return (math.sqrt(sm / (len(arr) - 1)))\n",
    "\n",
    "# Function to calculate sample error.\n",
    "def sampleError(arr):\n",
    "    # Formula to find sample error.\n",
    "    return SSD(arr) / (math.sqrt(len(arr)))\n",
    "\n",
    "# Standard error of mean (SEM):\n",
    "µ = sampleError(column(base,0))\n",
    "\n",
    "def over(character):\n",
    "    return \"_\\n\"+character"
   ]
  },
  {
   "attachments": {},
   "cell_type": "markdown",
   "metadata": {},
   "source": [
    "![title](./images/variables.png)"
   ]
  },
  {
   "cell_type": "markdown",
   "metadata": {},
   "source": [
    "### Fitting simple linear model of Energy and Distance  \n"
   ]
  },
  {
   "cell_type": "markdown",
   "metadata": {},
   "source": [
    "Here's the plan:\n",
    "* to draw the skatter plot \n",
    "* figure out, is Elevation Gain significant for our multiple linear regression\n",
    "* if yes - to draw the simple linear model and to set up the parameters of the model,\n",
    " $\\overline{y} = ax + b = a_1 x + a_0$ "
   ]
  },
  {
   "cell_type": "markdown",
   "metadata": {},
   "source": [
    "Draw the skatterplot of Energy vs Distance "
   ]
  },
  {
   "cell_type": "code",
   "execution_count": 6,
   "metadata": {
    "scrolled": true
   },
   "outputs": [
    {
     "data": {
      "image/png": "[encoded data removed]",
      "text/plain": [
       "<Figure size 432x288 with 1 Axes>"
      ]
     },
     "metadata": {
      "needs_background": "light"
     },
     "output_type": "display_data"
    },
    {
     "name": "stdout",
     "output_type": "stream",
     "text": [
      "X-vector: [18.04  2.03  4.04 17.34 22.   21.35  8.96 10.04 21.   19.03  5.44  6.36\n",
      "  1.01 10.22 15.02]\n",
      "Y-vector: [1322.  163.  342. 1257. 1878. 1839.  781.  876. 1736. 1419.  469.  552.\n",
      "   82.  891. 1164.]\n"
     ]
    }
   ],
   "source": [
    "xdata = column(base,1)\n",
    "ydata = column(base,0)\n",
    "plt.plot(xdata, ydata, '.', markersize=10, label='measurements')\n",
    "plt.xlabel('x - Distance(km)') \n",
    "plt.ylabel('y - Energy(Cal)') \n",
    "plt.title('The scatter plot Distance VS Energy scatterplot') \n",
    "plt.legend()\n",
    "plt.show()\n",
    "print('X-vector:',xdata)\n",
    "print('Y-vector:',ydata)"
   ]
  },
  {
   "attachments": {},
   "cell_type": "markdown",
   "metadata": {},
   "source": [
    "![title](./images/equation.png)"
   ]
  },
  {
   "attachments": {},
   "cell_type": "markdown",
   "metadata": {},
   "source": [
    "![title](./images/sum_of_square.png)"
   ]
  },
  {
   "cell_type": "code",
   "execution_count": 7,
   "metadata": {},
   "outputs": [
    {
     "data": {
      "text/plain": [
       "array([[1.        , 0.99054508],\n",
       "       [0.99054508, 1.        ]])"
      ]
     },
     "execution_count": 7,
     "metadata": {},
     "output_type": "execute_result"
    }
   ],
   "source": [
    "r = np.corrcoef(xdata, ydata)\n",
    "r"
   ]
  },
  {
   "cell_type": "markdown",
   "metadata": {},
   "source": [
    "Compose matrices $X$ i $Y$:\n"
   ]
  },
  {
   "cell_type": "code",
   "execution_count": 8,
   "metadata": {
    "scrolled": false
   },
   "outputs": [
    {
     "name": "stdout",
     "output_type": "stream",
     "text": [
      "[[ 1.    1.    1.    1.    1.    1.    1.    1.    1.    1.    1.    1.\n",
      "   1.    1.    1.  ]\n",
      " [18.04  2.03  4.04 17.34 22.   21.35  8.96 10.04 21.   19.03  5.44  6.36\n",
      "   1.01 10.22 15.02]] (2, 15)\n",
      "[[1322.  163.  342. 1257. 1878. 1839.  781.  876. 1736. 1419.  469.  552.\n",
      "    82.  891. 1164.]] (1, 15)\n"
     ]
    }
   ],
   "source": [
    "X = np.vstack([np.ones_like(xdata), xdata])\n",
    "print(X,X.shape)\n",
    "Y = np.vstack([ydata])      \n",
    "print(Y,Y.shape)"
   ]
  },
  {
   "cell_type": "code",
   "execution_count": 9,
   "metadata": {},
   "outputs": [
    {
     "data": {
      "text/plain": [
       "array([[22.44786772],\n",
       "       [79.36156798]])"
      ]
     },
     "execution_count": 9,
     "metadata": {},
     "output_type": "execute_result"
    }
   ],
   "source": [
    "a_opt = inv(X @ X.T) @ X @ Y.T\n",
    "a_opt"
   ]
  },
  {
   "cell_type": "markdown",
   "metadata": {},
   "source": [
    "Let's draw the summarizing graph"
   ]
  },
  {
   "cell_type": "code",
   "execution_count": 10,
   "metadata": {},
   "outputs": [
    {
     "data": {
      "image/png": "[encoded data removed]",
      "text/plain": [
       "<Figure size 432x288 with 1 Axes>"
      ]
     },
     "metadata": {
      "needs_background": "light"
     },
     "output_type": "display_data"
    }
   ],
   "source": [
    "xx = np.linspace(xdata.min(), xdata.max(), num=100)\n",
    "yy = a_opt[1]*xx + a_opt[0]\n",
    "\n",
    "plt.plot(xdata, ydata, '.', markersize=10, label='measurements')\n",
    "plt.plot(xx, yy, label='model derived from the algorithm')\n",
    "plt.xlabel('x - Distance(km)') \n",
    "plt.ylabel('y - Energy(Cal)') \n",
    "plt.title('Energy VS Distance scatterplot\\n with simple linear model') \n",
    "plt.legend()\n",
    "plt.show()"
   ]
  },
  {
   "cell_type": "markdown",
   "metadata": {},
   "source": [
    "Coefficient of correlation(r) for the the graph above:"
   ]
  },
  {
   "cell_type": "code",
   "execution_count": 11,
   "metadata": {},
   "outputs": [
    {
     "data": {
      "text/plain": [
       "array([[1.        , 0.99054508],\n",
       "       [0.99054508, 1.        ]])"
      ]
     },
     "execution_count": 11,
     "metadata": {},
     "output_type": "execute_result"
    }
   ],
   "source": [
    "r = np.corrcoef(xdata, ydata)\n",
    "r"
   ]
  },
  {
   "cell_type": "markdown",
   "metadata": {},
   "source": [
    "Here's our simple linear regression equation $\\overline{y}$ (without noise): \n"
   ]
  },
  {
   "cell_type": "code",
   "execution_count": 12,
   "metadata": {},
   "outputs": [
    {
     "name": "stdout",
     "output_type": "stream",
     "text": [
      "_\n",
      "y = [79.36156798] x + [22.44786772]\n"
     ]
    }
   ],
   "source": [
    "print( over('y'),'=',a_opt[1],'x +',a_opt[0])"
   ]
  },
  {
   "cell_type": "markdown",
   "metadata": {},
   "source": [
    "### Fitting simple linear model of Energy and Elevation Gain \n"
   ]
  },
  {
   "cell_type": "markdown",
   "metadata": {},
   "source": [
    "Here's the plan:\n",
    "* to draw the skatter plot \n",
    "* figure out, is Elevation Gain significant for our multiple linear regression\n",
    "* if yes - to draw the simple linear model and to set up the parameters of the model,\n",
    " $\\overline{y} = ax + b = a_1 x + a_0$ \n"
   ]
  },
  {
   "cell_type": "markdown",
   "metadata": {},
   "source": [
    "Draw the skatterplot of Energy vs Elevation"
   ]
  },
  {
   "cell_type": "code",
   "execution_count": 13,
   "metadata": {
    "scrolled": true
   },
   "outputs": [
    {
     "data": {
      "image/png": "[encoded data removed]",
      "text/plain": [
       "<Figure size 432x288 with 1 Axes>"
      ]
     },
     "metadata": {
      "needs_background": "light"
     },
     "output_type": "display_data"
    },
    {
     "name": "stdout",
     "output_type": "stream",
     "text": [
      "X-vector: [0.029 0.005 0.005 0.053 0.089 0.038 0.028 0.034 0.043 0.036 0.011 0.032\n",
      " 0.014 0.036 0.015]\n",
      "Y-vector: [1322.  163.  342. 1257. 1878. 1839.  781.  876. 1736. 1419.  469.  552.\n",
      "   82.  891. 1164.]\n"
     ]
    }
   ],
   "source": [
    "xdata = column(base,2)\n",
    "ydata = column(base,0)\n",
    "plt.plot(xdata, ydata, '.', markersize=10, label='measurements')\n",
    "plt.xlabel('x - Elevation Gain(km)') \n",
    "plt.ylabel('y - Energy(Cal)') \n",
    "plt.title('Distance VS Elevation scatterplot') \n",
    "plt.legend()\n",
    "plt.show()\n",
    "print('X-vector:',xdata)\n",
    "print('Y-vector:',ydata)"
   ]
  },
  {
   "cell_type": "markdown",
   "metadata": {},
   "source": [
    "Coefficient correlation(r) for the the graph above:"
   ]
  },
  {
   "cell_type": "code",
   "execution_count": 14,
   "metadata": {
    "scrolled": false
   },
   "outputs": [
    {
     "data": {
      "text/plain": [
       "array([[1.        , 0.75764878],\n",
       "       [0.75764878, 1.        ]])"
      ]
     },
     "execution_count": 14,
     "metadata": {},
     "output_type": "execute_result"
    }
   ],
   "source": [
    "r = np.corrcoef(xdata, ydata)\n",
    "r"
   ]
  },
  {
   "cell_type": "markdown",
   "metadata": {},
   "source": [
    "Compose matrices $X$ i $Y$:\n"
   ]
  },
  {
   "cell_type": "code",
   "execution_count": 15,
   "metadata": {},
   "outputs": [
    {
     "name": "stdout",
     "output_type": "stream",
     "text": [
      "[[1.    1.    1.    1.    1.    1.    1.    1.    1.    1.    1.    1.\n",
      "  1.    1.    1.   ]\n",
      " [0.029 0.005 0.005 0.053 0.089 0.038 0.028 0.034 0.043 0.036 0.011 0.032\n",
      "  0.014 0.036 0.015]] (2, 15)\n",
      "[[1322.  163.  342. 1257. 1878. 1839.  781.  876. 1736. 1419.  469.  552.\n",
      "    82.  891. 1164.]] (1, 15)\n"
     ]
    }
   ],
   "source": [
    "X = np.vstack([np.ones_like(xdata), xdata])\n",
    "print(X,X.shape)\n",
    "Y = np.vstack([ydata])      # Do you find this line necessary whatsoever?\n",
    "print(Y,Y.shape)"
   ]
  },
  {
   "cell_type": "code",
   "execution_count": 16,
   "metadata": {},
   "outputs": [
    {
     "data": {
      "text/plain": [
       "array([[  329.89641832],\n",
       "       [20988.36266068]])"
      ]
     },
     "execution_count": 16,
     "metadata": {},
     "output_type": "execute_result"
    }
   ],
   "source": [
    "a_opt = inv(X @ X.T) @ X @ Y.T\n",
    "a_opt"
   ]
  },
  {
   "cell_type": "markdown",
   "metadata": {},
   "source": [
    "Let's draw the summarizing graph"
   ]
  },
  {
   "cell_type": "code",
   "execution_count": 17,
   "metadata": {},
   "outputs": [
    {
     "data": {
      "image/png": "[encoded data removed]",
      "text/plain": [
       "<Figure size 432x288 with 1 Axes>"
      ]
     },
     "metadata": {
      "needs_background": "light"
     },
     "output_type": "display_data"
    }
   ],
   "source": [
    "xx = np.linspace(xdata.min(), xdata.max(), num=100)\n",
    "yy = a_opt[1]*xx + a_opt[0]\n",
    "\n",
    "plt.plot(xdata, ydata, '.', markersize=10, label='measurements')\n",
    "plt.plot(xx, yy, label='model derived from the algorithm')\n",
    "plt.xlabel('x - Elevation(km)') \n",
    "plt.ylabel('y - Energy(Cal)') \n",
    "plt.title('Energy VS Elevation scatterplot\\n with simple linear model') \n",
    "plt.legend()\n",
    "plt.show()"
   ]
  },
  {
   "cell_type": "markdown",
   "metadata": {},
   "source": [
    "Here's our simple linear regression equation $\\overline{y}$ (without noise): \n"
   ]
  },
  {
   "cell_type": "code",
   "execution_count": 18,
   "metadata": {},
   "outputs": [
    {
     "name": "stdout",
     "output_type": "stream",
     "text": [
      "_\n",
      "y = [20988.36266068] x + [329.89641832]\n"
     ]
    }
   ],
   "source": [
    "print( over('y'),'=',a_opt[1],'x +',a_opt[0])"
   ]
  },
  {
   "cell_type": "markdown",
   "metadata": {},
   "source": [
    "### Fitting simple linear model of Energy and Pace\n"
   ]
  },
  {
   "cell_type": "markdown",
   "metadata": {},
   "source": [
    "Here's the plan:\n",
    "* to draw the skatter plot \n",
    "* figure out, is Elevation Gain significant for our multiple linear regression\n",
    "* if yes - to draw the simple linear model and to set up the parameters of the model,\n",
    " $\\overline{y} = ax + b = a_1 x + a_0$ \n"
   ]
  },
  {
   "cell_type": "markdown",
   "metadata": {},
   "source": [
    "Draw the skatterplot of Energy vs Elevation"
   ]
  },
  {
   "cell_type": "code",
   "execution_count": 19,
   "metadata": {
    "scrolled": true
   },
   "outputs": [
    {
     "data": {
      "image/png": "[encoded data removed]",
      "text/plain": [
       "<Figure size 432x288 with 1 Axes>"
      ]
     },
     "metadata": {
      "needs_background": "light"
     },
     "output_type": "display_data"
    },
    {
     "name": "stdout",
     "output_type": "stream",
     "text": [
      "X-vector: [7.36 5.25 6.43 8.   6.31 6.15 5.53 5.46 7.21 7.15 6.1  5.59 5.01 5.48\n",
      " 6.33]\n",
      "Y-vector: [1322.  163.  342. 1257. 1878. 1839.  781.  876. 1736. 1419.  469.  552.\n",
      "   82.  891. 1164.]\n"
     ]
    }
   ],
   "source": [
    "xdata = column(base,3)\n",
    "ydata = column(base,0)\n",
    "plt.plot(xdata, ydata, '.', markersize=10, label='measurements')\n",
    "plt.xlabel('x - Pace(min/km)') \n",
    "plt.ylabel('y - Energy(Cal)') \n",
    "plt.title('Energy VS Pace scatterplot') \n",
    "plt.legend()\n",
    "plt.show()\n",
    "print('X-vector:',xdata)\n",
    "print('Y-vector:',ydata)"
   ]
  },
  {
   "cell_type": "markdown",
   "metadata": {},
   "source": [
    "Coefficient correlation(r) for the the graph above:"
   ]
  },
  {
   "cell_type": "code",
   "execution_count": 20,
   "metadata": {
    "scrolled": false
   },
   "outputs": [
    {
     "data": {
      "text/plain": [
       "array([[1.        , 0.60895539],\n",
       "       [0.60895539, 1.        ]])"
      ]
     },
     "execution_count": 20,
     "metadata": {},
     "output_type": "execute_result"
    }
   ],
   "source": [
    "r = np.corrcoef(xdata, ydata)\n",
    "r"
   ]
  },
  {
   "cell_type": "markdown",
   "metadata": {},
   "source": [
    "Coeffitient of correlation Energy to Pace is slow. \n",
    "We can say that value of Pace is not significant for our equation of multy linear regression."
   ]
  },
  {
   "cell_type": "markdown",
   "metadata": {},
   "source": [
    "### Scatterplots Summary\n"
   ]
  },
  {
   "attachments": {},
   "cell_type": "markdown",
   "metadata": {},
   "source": [
    "![title](./images/scatterplots.png)"
   ]
  },
  {
   "attachments": {},
   "cell_type": "markdown",
   "metadata": {},
   "source": [
    "![title](./images/check_independent.png)"
   ]
  },
  {
   "cell_type": "markdown",
   "metadata": {},
   "source": [
    "### Fitting simple linear model of Distance and Elevation Gain. Multicollinearity\n"
   ]
  },
  {
   "cell_type": "markdown",
   "metadata": {},
   "source": [
    "Here's the plan:\n",
    "* to draw the skatter plot \n",
    "* to check independence between variables Distance and Elevation Gain \n",
    "* if the are dependent to each other - to draw the simple linear model and to set up the parameters of the model,\n",
    " $\\overline{y} = ax + b = a_1 x + a_0$ \n",
    "* is they are not - to find a multiple linear model and to set up the parameters of the model \n"
   ]
  },
  {
   "cell_type": "markdown",
   "metadata": {},
   "source": [
    "Draw the skatterplot of Distance vs Elevation"
   ]
  },
  {
   "cell_type": "code",
   "execution_count": 21,
   "metadata": {
    "scrolled": true
   },
   "outputs": [
    {
     "data": {
      "image/png": "[encoded data removed]",
      "text/plain": [
       "<Figure size 432x288 with 1 Axes>"
      ]
     },
     "metadata": {
      "needs_background": "light"
     },
     "output_type": "display_data"
    },
    {
     "name": "stdout",
     "output_type": "stream",
     "text": [
      "X1-vector: [18.04  2.03  4.04 17.34 22.   21.35  8.96 10.04 21.   19.03  5.44  6.36\n",
      "  1.01 10.22 15.02]\n",
      "X2-vector: [0.029 0.005 0.005 0.053 0.089 0.038 0.028 0.034 0.043 0.036 0.011 0.032\n",
      " 0.014 0.036 0.015]\n"
     ]
    }
   ],
   "source": [
    "x2data = column(base,2)\n",
    "x1data = column(base,1)\n",
    "plt.plot(x2data, x1data, '.', markersize=10, label='measurements')\n",
    "plt.xlabel('x2 - Elevation(km)') \n",
    "plt.ylabel('x1 - Distance(km)') \n",
    "plt.title('Distance VS Elevation') \n",
    "plt.legend()\n",
    "plt.show()\n",
    "print('X1-vector:',x1data)\n",
    "print('X2-vector:',x2data)"
   ]
  },
  {
   "cell_type": "markdown",
   "metadata": {},
   "source": [
    "Coefficient correlation(r) for the the graph above:"
   ]
  },
  {
   "cell_type": "code",
   "execution_count": 22,
   "metadata": {
    "scrolled": true
   },
   "outputs": [
    {
     "data": {
      "text/plain": [
       "array([[1.        , 0.73008965],\n",
       "       [0.73008965, 1.        ]])"
      ]
     },
     "execution_count": 22,
     "metadata": {},
     "output_type": "execute_result"
    }
   ],
   "source": [
    "r = np.corrcoef(x1data, x2data)\n",
    "r"
   ]
  },
  {
   "cell_type": "markdown",
   "metadata": {},
   "source": [
    "Compose matrices $X$ i $Y$:\n"
   ]
  },
  {
   "cell_type": "code",
   "execution_count": 23,
   "metadata": {
    "scrolled": true
   },
   "outputs": [
    {
     "name": "stdout",
     "output_type": "stream",
     "text": [
      "[[1.   1.   1.   1.   1.   1.   1.   1.   1.   1.   1.   1.   1.   1.\n",
      "  1.  ]\n",
      " [7.36 5.25 6.43 8.   6.31 6.15 5.53 5.46 7.21 7.15 6.1  5.59 5.01 5.48\n",
      "  6.33]] (2, 15)\n",
      "[[1322.  163.  342. 1257. 1878. 1839.  781.  876. 1736. 1419.  469.  552.\n",
      "    82.  891. 1164.]] (1, 15)\n"
     ]
    }
   ],
   "source": [
    "X = np.vstack([np.ones_like(xdata), xdata])\n",
    "print(X,X.shape)\n",
    "Y = np.vstack([ydata])      # Do you find this line necessary whatsoever?\n",
    "print(Y,Y.shape)"
   ]
  },
  {
   "cell_type": "code",
   "execution_count": 24,
   "metadata": {
    "scrolled": true
   },
   "outputs": [
    {
     "data": {
      "text/plain": [
       "array([[-1573.29426631],\n",
       "       [  410.99415161]])"
      ]
     },
     "execution_count": 24,
     "metadata": {},
     "output_type": "execute_result"
    }
   ],
   "source": [
    "a_opt = inv(X @ X.T) @ X @ Y.T\n",
    "a_opt"
   ]
  },
  {
   "cell_type": "markdown",
   "metadata": {},
   "source": [
    "Let's draw the summarizing graph"
   ]
  },
  {
   "cell_type": "code",
   "execution_count": 25,
   "metadata": {},
   "outputs": [
    {
     "data": {
      "image/png": "[encoded data removed]",
      "text/plain": [
       "<Figure size 432x288 with 1 Axes>"
      ]
     },
     "metadata": {
      "needs_background": "light"
     },
     "output_type": "display_data"
    }
   ],
   "source": [
    "xx = np.linspace(xdata.min(), xdata.max(), num=100)\n",
    "yy = a_opt[1]*xx + a_opt[0]\n",
    "\n",
    "plt.plot(xdata, ydata, '.', markersize=10, label='measurements')\n",
    "plt.plot(xx, yy, label='model derived from the algorithm')\n",
    "plt.xlabel('x - Elevation(km)') \n",
    "plt.ylabel('y - Energy(Cal)') \n",
    "plt.title('Energy VS Elevation scatterplot\\n with simple linear model') \n",
    "plt.legend()\n",
    "plt.show()"
   ]
  },
  {
   "cell_type": "markdown",
   "metadata": {},
   "source": [
    "### Multicollinearity \n"
   ]
  },
  {
   "attachments": {},
   "cell_type": "markdown",
   "metadata": {},
   "source": [
    "![title](./images/correlation.png)"
   ]
  },
  {
   "cell_type": "markdown",
   "metadata": {},
   "source": [
    "## Conclusion\n"
   ]
  },
  {
   "attachments": {},
   "cell_type": "markdown",
   "metadata": {},
   "source": [
    "![title](./images/conclusion.png)"
   ]
  }
 ],
 "metadata": {
  "kernelspec": {
   "display_name": "Python 3",
   "language": "python",
   "name": "python3"
  },
  "language_info": {
   "codemirror_mode": {
    "name": "ipython",
    "version": 3
   },
   "file_extension": ".py",
   "mimetype": "text/x-python",
   "name": "python",
   "nbconvert_exporter": "python",
   "pygments_lexer": "ipython3",
   "version": "3.9.1"
  }
 },
 "nbformat": 4,
 "nbformat_minor": 2
}
